{
 "cells": [
  {
   "cell_type": "markdown",
   "id": "336db3e7",
   "metadata": {},
   "source": [
    "# 함수\n",
    "- 프로그래밍에서 똑같은 내용을 반복적으로 수행할 때, 함수를 사용\n",
    "- 함수는 입력값과 결과값을 고려하여 작성\n",
    "- 함수화를 통해 흐름을 보기 쉽게 정리할 수 있음\n",
    "- 흐름이 정리되면 오류 찾기도 쉽고, 다른 사람이 코드를 이해하기도 쉽다."
   ]
  },
  {
   "cell_type": "code",
   "execution_count": 1,
   "id": "ef5eb021",
   "metadata": {},
   "outputs": [
    {
     "name": "stdout",
     "output_type": "stream",
     "text": [
      "이것은 테스트함수입니다\n"
     ]
    }
   ],
   "source": [
    "print('이것은 테스트함수입니다')"
   ]
  },
  {
   "cell_type": "code",
   "execution_count": 2,
   "id": "92852256",
   "metadata": {},
   "outputs": [
    {
     "name": "stdout",
     "output_type": "stream",
     "text": [
      "이것은 테스트함수입니다\n"
     ]
    }
   ],
   "source": [
    "print('이것은 테스트함수입니다') #매번 치기 번거로움"
   ]
  },
  {
   "cell_type": "code",
   "execution_count": 3,
   "id": "ba31ce90",
   "metadata": {},
   "outputs": [],
   "source": [
    "def test(): #함수로 정의\n",
    "    print('이것은 테스트함수입니다')"
   ]
  },
  {
   "cell_type": "code",
   "execution_count": 4,
   "id": "f8db47d6",
   "metadata": {},
   "outputs": [
    {
     "name": "stdout",
     "output_type": "stream",
     "text": [
      "이것은 테스트함수입니다\n"
     ]
    }
   ],
   "source": [
    "test()"
   ]
  },
  {
   "cell_type": "code",
   "execution_count": 15,
   "id": "407276e3",
   "metadata": {},
   "outputs": [],
   "source": [
    "def add(a,b):\n",
    "    return a + b #return: 함수를 수행한 결과 뱉어낸다."
   ]
  },
  {
   "cell_type": "code",
   "execution_count": 6,
   "id": "1a8a8674",
   "metadata": {},
   "outputs": [
    {
     "data": {
      "text/plain": [
       "4"
      ]
     },
     "execution_count": 6,
     "metadata": {},
     "output_type": "execute_result"
    }
   ],
   "source": [
    "add(1,3)"
   ]
  },
  {
   "cell_type": "code",
   "execution_count": 16,
   "id": "4a0f73b0",
   "metadata": {},
   "outputs": [],
   "source": [
    "result = add(1,3)"
   ]
  },
  {
   "cell_type": "code",
   "execution_count": 17,
   "id": "561b9d5e",
   "metadata": {},
   "outputs": [
    {
     "data": {
      "text/plain": [
       "4"
      ]
     },
     "execution_count": 17,
     "metadata": {},
     "output_type": "execute_result"
    }
   ],
   "source": [
    "result"
   ]
  },
  {
   "cell_type": "code",
   "execution_count": 24,
   "id": "05bd0843",
   "metadata": {},
   "outputs": [
    {
     "ename": "TypeError",
     "evalue": "add() takes 2 positional arguments but 3 were given",
     "output_type": "error",
     "traceback": [
      "\u001b[1;31m---------------------------------------------------------------------------\u001b[0m",
      "\u001b[1;31mTypeError\u001b[0m                                 Traceback (most recent call last)",
      "Input \u001b[1;32mIn [24]\u001b[0m, in \u001b[0;36m<cell line: 1>\u001b[1;34m()\u001b[0m\n\u001b[1;32m----> 1\u001b[0m \u001b[43madd\u001b[49m\u001b[43m(\u001b[49m\u001b[38;5;241;43m1\u001b[39;49m\u001b[43m,\u001b[49m\u001b[38;5;241;43m2\u001b[39;49m\u001b[43m,\u001b[49m\u001b[38;5;241;43m3\u001b[39;49m\u001b[43m)\u001b[49m\n",
      "\u001b[1;31mTypeError\u001b[0m: add() takes 2 positional arguments but 3 were given"
     ]
    }
   ],
   "source": [
    "add(1,2,3)"
   ]
  },
  {
   "cell_type": "code",
   "execution_count": 19,
   "id": "396a6bf9",
   "metadata": {},
   "outputs": [],
   "source": [
    "def add(a,b):\n",
    "    print (a + b)  #print는 안됨 print와 result 차이는?"
   ]
  },
  {
   "cell_type": "code",
   "execution_count": 1,
   "id": "dfea31b7",
   "metadata": {},
   "outputs": [],
   "source": [
    "def add_many(*args):\n",
    "    print(args)\n",
    "    "
   ]
  },
  {
   "cell_type": "code",
   "execution_count": 2,
   "id": "1ce24c7a",
   "metadata": {},
   "outputs": [
    {
     "name": "stdout",
     "output_type": "stream",
     "text": [
      "(1,)\n"
     ]
    }
   ],
   "source": [
    "add_many(1)"
   ]
  },
  {
   "cell_type": "code",
   "execution_count": 3,
   "id": "2079cb8c",
   "metadata": {},
   "outputs": [
    {
     "name": "stdout",
     "output_type": "stream",
     "text": [
      "(1, 2, 3, 4, 5)\n"
     ]
    }
   ],
   "source": [
    "add_many(1,2,3,4,5)"
   ]
  },
  {
   "cell_type": "code",
   "execution_count": 25,
   "id": "13f568e5",
   "metadata": {},
   "outputs": [],
   "source": [
    "def add_many(*args):  #\n",
    "    result = 0 \n",
    "    for i in args:#1,2,3,4\n",
    "        result = result + i \n",
    "    return result #1  3 6 10"
   ]
  },
  {
   "cell_type": "code",
   "execution_count": 27,
   "id": "278187fb",
   "metadata": {},
   "outputs": [
    {
     "data": {
      "text/plain": [
       "10"
      ]
     },
     "execution_count": 27,
     "metadata": {},
     "output_type": "execute_result"
    }
   ],
   "source": [
    "add_many(1,2,3,4)"
   ]
  },
  {
   "cell_type": "code",
   "execution_count": 12,
   "id": "4ea9469e",
   "metadata": {},
   "outputs": [],
   "source": [
    "def calculator(oper, *args):\n",
    "    if oper == \"+\":\n",
    "        result = 0\n",
    "    elif oper == \"*\":\n",
    "        result = 1\n",
    "    for i in args:\n",
    "        result = eval(f'{result} {oper} {i}')\n",
    "        \n",
    "    return result"
   ]
  },
  {
   "cell_type": "code",
   "execution_count": 13,
   "id": "e27258b6",
   "metadata": {},
   "outputs": [
    {
     "data": {
      "text/plain": [
       "120"
      ]
     },
     "execution_count": 13,
     "metadata": {},
     "output_type": "execute_result"
    }
   ],
   "source": [
    "calculator(\"*\", 1,2,3,4,5) #=>1,2,3,4,5가 args에 들어감"
   ]
  },
  {
   "cell_type": "code",
   "execution_count": 14,
   "id": "88d5697f",
   "metadata": {},
   "outputs": [
    {
     "data": {
      "text/plain": [
       "3"
      ]
     },
     "execution_count": 14,
     "metadata": {},
     "output_type": "execute_result"
    }
   ],
   "source": [
    "eval('3 * 1') #문자열 안에 있는 곱셈을 실제 숫자로 처리 "
   ]
  },
  {
   "cell_type": "code",
   "execution_count": 15,
   "id": "49b158d0",
   "metadata": {},
   "outputs": [
    {
     "data": {
      "text/plain": [
       "15"
      ]
     },
     "execution_count": 15,
     "metadata": {},
     "output_type": "execute_result"
    }
   ],
   "source": [
    "calculator(\"+\", 1,2,3,4,5)"
   ]
  },
  {
   "cell_type": "markdown",
   "id": "1bbb9968",
   "metadata": {},
   "source": [
    "#### Quiz\n",
    "(1) \"안녕하세요\"를 출력하는 함수를 정의하고, 함수를 호출하여 \"안녕하세요\"를 10번 출력하세요.  \n",
    "\n",
    "   \n",
    "(2) 다음 코드의 실행결과를 예측해보세요.\n",
    "\n",
    "```python\n",
    "def test1():\n",
    "    print('A')\n",
    "    \n",
    "def test2():\n",
    "    print('B')\n",
    "    \n",
    "print('C')\n",
    "```\n",
    "\n",
    "(3) 인자로 숫자 n을 전달받아, \"안녕하세요\"를 n회 출력하는 함수를 구현하세요."
   ]
  },
  {
   "cell_type": "code",
   "execution_count": 16,
   "id": "db30ce40",
   "metadata": {},
   "outputs": [],
   "source": [
    "#(1) \"안녕하세요\"를 출력하는 함수를 정의하고, \n",
    "#함수를 호출하여 \"안녕하세요\"를 10번 출력하세요.\n",
    "\n",
    "def hello():\n",
    "    print(\"안녕하세요\")"
   ]
  },
  {
   "cell_type": "code",
   "execution_count": 19,
   "id": "e2db369a",
   "metadata": {},
   "outputs": [
    {
     "name": "stdout",
     "output_type": "stream",
     "text": [
      "안녕하세요\n"
     ]
    }
   ],
   "source": [
    "hello()"
   ]
  },
  {
   "cell_type": "code",
   "execution_count": 28,
   "id": "dd936015",
   "metadata": {},
   "outputs": [
    {
     "name": "stdout",
     "output_type": "stream",
     "text": [
      "안녕하세요\n",
      "None\n",
      "안녕하세요\n",
      "None\n",
      "안녕하세요\n",
      "None\n",
      "안녕하세요\n",
      "None\n",
      "안녕하세요\n",
      "None\n",
      "안녕하세요\n",
      "None\n",
      "안녕하세요\n",
      "None\n",
      "안녕하세요\n",
      "None\n",
      "안녕하세요\n",
      "None\n",
      "안녕하세요\n",
      "None\n"
     ]
    }
   ],
   "source": [
    "for i in range(10):\n",
    "    print(hello()) #print 없애도 됨"
   ]
  },
  {
   "cell_type": "code",
   "execution_count": 30,
   "id": "d8de6bd6",
   "metadata": {},
   "outputs": [
    {
     "name": "stdout",
     "output_type": "stream",
     "text": [
      "안녕하세요\n",
      "안녕하세요\n",
      "안녕하세요\n",
      "안녕하세요\n",
      "안녕하세요\n",
      "안녕하세요\n",
      "안녕하세요\n",
      "안녕하세요\n",
      "안녕하세요\n",
      "안녕하세요\n"
     ]
    }
   ],
   "source": [
    "for i in range(10):  #정답\n",
    "    hello()"
   ]
  },
  {
   "cell_type": "code",
   "execution_count": 31,
   "id": "2800ae6d",
   "metadata": {},
   "outputs": [
    {
     "name": "stdout",
     "output_type": "stream",
     "text": [
      "C\n",
      "A\n",
      "B\n"
     ]
    }
   ],
   "source": [
    "# (2) 다음 코드의 실행결과를 예측해보세요.\n",
    "\n",
    "def test1():\n",
    "    print('A')  #정의만 됨 불러야 출력\n",
    "\n",
    "def test2():\n",
    "    test1()\n",
    "    print('B')\n",
    "\n",
    "print('C') #1. 제일 먼저 출력\n",
    "test2()"
   ]
  },
  {
   "cell_type": "code",
   "execution_count": 32,
   "id": "21687327",
   "metadata": {},
   "outputs": [],
   "source": [
    "#(3) 인자로 숫자 n을 전달받아, \"안녕하세요\"를 n회 출력하는 함수를 구현하세요\n",
    "\n",
    "def test(n): #인자로 숫자 n 전달\n",
    "    for i in range(n):\n",
    "        print('안녕하세요')"
   ]
  },
  {
   "cell_type": "code",
   "execution_count": 34,
   "id": "61f5b226",
   "metadata": {},
   "outputs": [
    {
     "name": "stdout",
     "output_type": "stream",
     "text": [
      "안녕하세요\n",
      "안녕하세요\n",
      "안녕하세요\n",
      "안녕하세요\n"
     ]
    }
   ],
   "source": [
    "test(4)"
   ]
  },
  {
   "cell_type": "code",
   "execution_count": 35,
   "id": "41429eb9",
   "metadata": {},
   "outputs": [],
   "source": [
    "def test(n): \n",
    "    print(n * '안녕하세요')"
   ]
  },
  {
   "cell_type": "code",
   "execution_count": 36,
   "id": "78369749",
   "metadata": {},
   "outputs": [
    {
     "name": "stdout",
     "output_type": "stream",
     "text": [
      "안녕하세요안녕하세요안녕하세요안녕하세요안녕하세요안녕하세요\n"
     ]
    }
   ],
   "source": [
    "test(6)"
   ]
  },
  {
   "cell_type": "code",
   "execution_count": null,
   "id": "4d0f2559",
   "metadata": {},
   "outputs": [],
   "source": []
  }
 ],
 "metadata": {
  "kernelspec": {
   "display_name": "Python 3 (ipykernel)",
   "language": "python",
   "name": "python3"
  },
  "language_info": {
   "codemirror_mode": {
    "name": "ipython",
    "version": 3
   },
   "file_extension": ".py",
   "mimetype": "text/x-python",
   "name": "python",
   "nbconvert_exporter": "python",
   "pygments_lexer": "ipython3",
   "version": "3.9.12"
  }
 },
 "nbformat": 4,
 "nbformat_minor": 5
}
