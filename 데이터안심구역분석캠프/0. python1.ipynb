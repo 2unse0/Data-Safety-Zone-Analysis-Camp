{
 "cells": [
  {
   "cell_type": "markdown",
   "id": "8941a718",
   "metadata": {},
   "source": [
    "# 파이썬 기초\n",
    "\n",
    "\n",
    "## 프로그래밍이란?\n",
    "\n",
    "- 특정 목적을 달성하기 위해 설계된 로직을 프로그래밍 언어를 사용하여 구체적인 프로그램으로 작성하는 과정을 뜻함\n",
    "- 즉, 결과를 얻기 위해 input 값을 넣고 연산을 거쳐 output이 나오는 과정\n",
    "- input과 output이 없을 수도 있지만, 일반적으로 존재\n"
   ]
  },
  {
   "cell_type": "code",
   "execution_count": 2,
   "id": "6087a7c8",
   "metadata": {},
   "outputs": [],
   "source": [
    "name = \"Jang_eun_seo\""
   ]
  },
  {
   "cell_type": "code",
   "execution_count": 3,
   "id": "a29e3b92",
   "metadata": {},
   "outputs": [
    {
     "data": {
      "text/plain": [
       "'Jang_eun-seo'"
      ]
     },
     "execution_count": 3,
     "metadata": {},
     "output_type": "execute_result"
    }
   ],
   "source": [
    "name"
   ]
  },
  {
   "cell_type": "markdown",
   "id": "c51249cb",
   "metadata": {},
   "source": [
    "## 자료형\n",
    "- 자료형이란 프로그래밍에서 쓰이는 자료의 형태를 말한다.\n",
    "- 자료형의 종류로는 숫자형, 문자열, 리스트, 튜플, 딕셔너리 등이 있다."
   ]
  },
  {
   "cell_type": "markdown",
   "id": "8a3d3e21",
   "metadata": {},
   "source": [
    "### 1. 숫자형\n",
    "- 숫자형(Number)이란 숫자의 형태로 이루어진 자료형으로 수치를 나타내는 자료형\n",
    "- 숫자형 변수는 크게 int형과 float형이 존재\n",
    "- int형은 정수, float형은 실수\n"
   ]
  },
  {
   "cell_type": "code",
   "execution_count": 4,
   "id": "c1f6a29e",
   "metadata": {},
   "outputs": [],
   "source": [
    "number1 = 12345"
   ]
  },
  {
   "cell_type": "code",
   "execution_count": 6,
   "id": "1f89892f",
   "metadata": {},
   "outputs": [
    {
     "data": {
      "text/plain": [
       "int"
      ]
     },
     "execution_count": 6,
     "metadata": {},
     "output_type": "execute_result"
    }
   ],
   "source": [
    "type(number1)"
   ]
  },
  {
   "cell_type": "markdown",
   "id": "744fba20",
   "metadata": {},
   "source": [
    "##### 연산자\n",
    "- 사칙연산 등의 연산을 위한 기호를 연산자라고 함\n",
    "- 숫자형은 기본적인 사칙연산이 가능\n",
    "- 0으로 나누는 것은 불가능\n",
    "- 제곱, 나머지, 몫을 바로 얻어내는 연산자도 지원"
   ]
  },
  {
   "cell_type": "code",
   "execution_count": 7,
   "id": "acdeca0e",
   "metadata": {},
   "outputs": [
    {
     "data": {
      "text/plain": [
       "3.75"
      ]
     },
     "execution_count": 7,
     "metadata": {},
     "output_type": "execute_result"
    }
   ],
   "source": [
    "15 / 4"
   ]
  },
  {
   "cell_type": "code",
   "execution_count": 9,
   "id": "5a3a22e7",
   "metadata": {},
   "outputs": [
    {
     "data": {
      "text/plain": [
       "3"
      ]
     },
     "execution_count": 9,
     "metadata": {},
     "output_type": "execute_result"
    }
   ],
   "source": [
    "15 % 4 #나머지"
   ]
  },
  {
   "cell_type": "code",
   "execution_count": 11,
   "id": "6fcc0a44",
   "metadata": {},
   "outputs": [
    {
     "data": {
      "text/plain": [
       "3"
      ]
     },
     "execution_count": 11,
     "metadata": {},
     "output_type": "execute_result"
    }
   ],
   "source": [
    "15 // 4 #몫"
   ]
  },
  {
   "cell_type": "markdown",
   "id": "2134409d",
   "metadata": {},
   "source": [
    "## 2. 문자열\n",
    "- 문자열(string)이란 문자, 단어 등으로 구성된 문자들의 집합을 의미\n",
    "- 숫자형도 문자열로 나타낼 수 있음\n",
    "- \"\" 안에 있으면 모두 문자열"
   ]
  },
  {
   "cell_type": "code",
   "execution_count": 12,
   "id": "94868ade",
   "metadata": {},
   "outputs": [
    {
     "data": {
      "text/plain": [
       "\"he's name is gildong\""
      ]
     },
     "execution_count": 12,
     "metadata": {},
     "output_type": "execute_result"
    }
   ],
   "source": [
    "\"he's name is gildong\""
   ]
  },
  {
   "cell_type": "code",
   "execution_count": 17,
   "id": "89d8ee41",
   "metadata": {},
   "outputs": [
    {
     "data": {
      "text/plain": [
       "\"he's name is gildong\""
      ]
     },
     "execution_count": 17,
     "metadata": {},
     "output_type": "execute_result"
    }
   ],
   "source": [
    "'he\\'s name is gildong'"
   ]
  },
  {
   "cell_type": "markdown",
   "id": "cc363e75",
   "metadata": {},
   "source": [
    "문자열 안에 줄바꿈을 넣고 싶다면?"
   ]
  },
  {
   "cell_type": "code",
   "execution_count": 16,
   "id": "c11e0a8c",
   "metadata": {},
   "outputs": [
    {
     "data": {
      "text/plain": [
       "'hello my friends\\nnice to meet you'"
      ]
     },
     "execution_count": 16,
     "metadata": {},
     "output_type": "execute_result"
    }
   ],
   "source": [
    "\"\"\"hello my friends\n",
    "nice to meet you\"\"\""
   ]
  },
  {
   "cell_type": "markdown",
   "id": "a32e56b0",
   "metadata": {},
   "source": [
    "문자열 연산\n",
    "- 문자열도 수치형과 비슷한 연산이 가능함\n",
    "- 덧셈과 곱셈이 가능"
   ]
  },
  {
   "cell_type": "code",
   "execution_count": 18,
   "id": "68e92b01",
   "metadata": {},
   "outputs": [
    {
     "data": {
      "text/plain": [
       "'hello'"
      ]
     },
     "execution_count": 18,
     "metadata": {},
     "output_type": "execute_result"
    }
   ],
   "source": [
    "\"he\" + \"llo\""
   ]
  },
  {
   "cell_type": "code",
   "execution_count": 20,
   "id": "af7b5090",
   "metadata": {},
   "outputs": [
    {
     "ename": "TypeError",
     "evalue": "unsupported operand type(s) for -: 'str' and 'str'",
     "output_type": "error",
     "traceback": [
      "\u001b[1;31m---------------------------------------------------------------------------\u001b[0m",
      "\u001b[1;31mTypeError\u001b[0m                                 Traceback (most recent call last)",
      "Input \u001b[1;32mIn [20]\u001b[0m, in \u001b[0;36m<cell line: 1>\u001b[1;34m()\u001b[0m\n\u001b[1;32m----> 1\u001b[0m \u001b[38;5;124;43m\"\u001b[39;49m\u001b[38;5;124;43mhe\u001b[39;49m\u001b[38;5;124;43m\"\u001b[39;49m\u001b[43m \u001b[49m\u001b[38;5;241;43m-\u001b[39;49m\u001b[43m \u001b[49m\u001b[38;5;124;43m\"\u001b[39;49m\u001b[38;5;124;43me\u001b[39;49m\u001b[38;5;124;43m\"\u001b[39;49m\n",
      "\u001b[1;31mTypeError\u001b[0m: unsupported operand type(s) for -: 'str' and 'str'"
     ]
    }
   ],
   "source": [
    "\"he\" - \"e\" #뺄셈은 안됨"
   ]
  },
  {
   "cell_type": "code",
   "execution_count": 21,
   "id": "049f3d57",
   "metadata": {},
   "outputs": [
    {
     "data": {
      "text/plain": [
       "'hellohellohellohellohellohellohellohellohellohello'"
      ]
     },
     "execution_count": 21,
     "metadata": {},
     "output_type": "execute_result"
    }
   ],
   "source": [
    "'hello' * 10"
   ]
  },
  {
   "cell_type": "markdown",
   "id": "f462d393",
   "metadata": {},
   "source": [
    "문자열 길이 구하기\n"
   ]
  },
  {
   "cell_type": "code",
   "execution_count": 23,
   "id": "72ff6db0",
   "metadata": {},
   "outputs": [
    {
     "data": {
      "text/plain": [
       "11"
      ]
     },
     "execution_count": 23,
     "metadata": {},
     "output_type": "execute_result"
    }
   ],
   "source": [
    "len('hello world') #length"
   ]
  },
  {
   "cell_type": "markdown",
   "id": "f4e52164",
   "metadata": {},
   "source": [
    "인덱싱과 슬라이싱\n",
    "- 인덱싱이란 첫번째 숫자 혹은 n번째 숫자와 같이 위치정보를 이용하여, 문자를 뽑아내는 것\n",
    "- 슬라이싱이란 문자열 인덱싱을 이용하여 특정 범위의 문자를 잘라내는 것"
   ]
  },
  {
   "cell_type": "code",
   "execution_count": 25,
   "id": "8118adee",
   "metadata": {},
   "outputs": [],
   "source": [
    "greeting = 'hello my friends'"
   ]
  },
  {
   "cell_type": "code",
   "execution_count": 26,
   "id": "8173dbbc",
   "metadata": {},
   "outputs": [
    {
     "data": {
      "text/plain": [
       "'hello my friends'"
      ]
     },
     "execution_count": 26,
     "metadata": {},
     "output_type": "execute_result"
    }
   ],
   "source": [
    "greeting"
   ]
  },
  {
   "cell_type": "code",
   "execution_count": 27,
   "id": "bd618b58",
   "metadata": {},
   "outputs": [
    {
     "data": {
      "text/plain": [
       "'h'"
      ]
     },
     "execution_count": 27,
     "metadata": {},
     "output_type": "execute_result"
    }
   ],
   "source": [
    "greeting[0]"
   ]
  },
  {
   "cell_type": "code",
   "execution_count": 28,
   "id": "43bd7b56",
   "metadata": {},
   "outputs": [
    {
     "data": {
      "text/plain": [
       "'o'"
      ]
     },
     "execution_count": 28,
     "metadata": {},
     "output_type": "execute_result"
    }
   ],
   "source": [
    "greeting[4]"
   ]
  },
  {
   "cell_type": "code",
   "execution_count": 30,
   "id": "d67b49b7",
   "metadata": {},
   "outputs": [
    {
     "data": {
      "text/plain": [
       "16"
      ]
     },
     "execution_count": 30,
     "metadata": {},
     "output_type": "execute_result"
    }
   ],
   "source": [
    "len(greeting)"
   ]
  },
  {
   "cell_type": "code",
   "execution_count": 31,
   "id": "15231267",
   "metadata": {},
   "outputs": [
    {
     "data": {
      "text/plain": [
       "'s'"
      ]
     },
     "execution_count": 31,
     "metadata": {},
     "output_type": "execute_result"
    }
   ],
   "source": [
    "greeting[15]"
   ]
  },
  {
   "cell_type": "code",
   "execution_count": 32,
   "id": "7ba978e5",
   "metadata": {},
   "outputs": [
    {
     "data": {
      "text/plain": [
       "'s'"
      ]
     },
     "execution_count": 32,
     "metadata": {},
     "output_type": "execute_result"
    }
   ],
   "source": [
    "greeting[-1]"
   ]
  },
  {
   "cell_type": "code",
   "execution_count": 33,
   "id": "a54e842f",
   "metadata": {},
   "outputs": [
    {
     "data": {
      "text/plain": [
       "'h'"
      ]
     },
     "execution_count": 33,
     "metadata": {},
     "output_type": "execute_result"
    }
   ],
   "source": [
    "greeting[0]"
   ]
  },
  {
   "cell_type": "code",
   "execution_count": 34,
   "id": "318637d5",
   "metadata": {},
   "outputs": [
    {
     "data": {
      "text/plain": [
       "'e'"
      ]
     },
     "execution_count": 34,
     "metadata": {},
     "output_type": "execute_result"
    }
   ],
   "source": [
    "greeting[1]"
   ]
  },
  {
   "cell_type": "code",
   "execution_count": 35,
   "id": "225c2ac5",
   "metadata": {},
   "outputs": [
    {
     "data": {
      "text/plain": [
       "'he'"
      ]
     },
     "execution_count": 35,
     "metadata": {},
     "output_type": "execute_result"
    }
   ],
   "source": [
    "greeting[0] + greeting[1]"
   ]
  },
  {
   "cell_type": "code",
   "execution_count": 39,
   "id": "e4fc41a7",
   "metadata": {},
   "outputs": [
    {
     "data": {
      "text/plain": [
       "'hello'"
      ]
     },
     "execution_count": 39,
     "metadata": {},
     "output_type": "execute_result"
    }
   ],
   "source": [
    "greeting[0:5] #0~5 => 0 이상 5미만"
   ]
  },
  {
   "cell_type": "code",
   "execution_count": 37,
   "id": "87d3ea91",
   "metadata": {},
   "outputs": [
    {
     "data": {
      "text/plain": [
       "'hello my friends'"
      ]
     },
     "execution_count": 37,
     "metadata": {},
     "output_type": "execute_result"
    }
   ],
   "source": [
    "greeting"
   ]
  },
  {
   "cell_type": "code",
   "execution_count": 40,
   "id": "8c7eb648",
   "metadata": {},
   "outputs": [
    {
     "data": {
      "text/plain": [
       "'hello'"
      ]
     },
     "execution_count": 40,
     "metadata": {},
     "output_type": "execute_result"
    }
   ],
   "source": [
    "greeting[:5]"
   ]
  },
  {
   "cell_type": "code",
   "execution_count": 41,
   "id": "6dbad63c",
   "metadata": {},
   "outputs": [
    {
     "data": {
      "text/plain": [
       "'friends'"
      ]
     },
     "execution_count": 41,
     "metadata": {},
     "output_type": "execute_result"
    }
   ],
   "source": [
    "greeting[9:]"
   ]
  },
  {
   "cell_type": "markdown",
   "id": "be42b07a",
   "metadata": {},
   "source": [
    "문자열 관련 함수\n",
    "- count\n",
    "- find\n",
    "- index\n",
    "- join\n",
    "- upper\n",
    "- lower\n",
    "- replace\n",
    "- split"
   ]
  },
  {
   "cell_type": "code",
   "execution_count": 42,
   "id": "3d5a0864",
   "metadata": {},
   "outputs": [
    {
     "data": {
      "text/plain": [
       "'hello my friends'"
      ]
     },
     "execution_count": 42,
     "metadata": {},
     "output_type": "execute_result"
    }
   ],
   "source": [
    "greeting"
   ]
  },
  {
   "cell_type": "code",
   "execution_count": 44,
   "id": "77231bdd",
   "metadata": {},
   "outputs": [
    {
     "data": {
      "text/plain": [
       "2"
      ]
     },
     "execution_count": 44,
     "metadata": {},
     "output_type": "execute_result"
    }
   ],
   "source": [
    "greeting.count('e') #몇 번 포함되어있는지 세줌"
   ]
  },
  {
   "cell_type": "code",
   "execution_count": 46,
   "id": "fdee2d78",
   "metadata": {},
   "outputs": [
    {
     "data": {
      "text/plain": [
       "9"
      ]
     },
     "execution_count": 46,
     "metadata": {},
     "output_type": "execute_result"
    }
   ],
   "source": [
    "greeting.find('f') #몇 번째인지 찾아줌"
   ]
  },
  {
   "cell_type": "code",
   "execution_count": 48,
   "id": "8f77f472",
   "metadata": {},
   "outputs": [
    {
     "data": {
      "text/plain": [
       "1"
      ]
     },
     "execution_count": 48,
     "metadata": {},
     "output_type": "execute_result"
    }
   ],
   "source": [
    "greeting.find('e') #중복될 경우 가장 먼저 나온 것 반환"
   ]
  },
  {
   "cell_type": "code",
   "execution_count": 50,
   "id": "2839f781",
   "metadata": {},
   "outputs": [
    {
     "data": {
      "text/plain": [
       "6"
      ]
     },
     "execution_count": 50,
     "metadata": {},
     "output_type": "execute_result"
    }
   ],
   "source": [
    "greeting.index('my')"
   ]
  },
  {
   "cell_type": "code",
   "execution_count": 52,
   "id": "f40738aa",
   "metadata": {},
   "outputs": [
    {
     "data": {
      "text/plain": [
       "0"
      ]
     },
     "execution_count": 52,
     "metadata": {},
     "output_type": "execute_result"
    }
   ],
   "source": [
    "greeting.index('hello')"
   ]
  },
  {
   "cell_type": "code",
   "execution_count": 53,
   "id": "245fd9ca",
   "metadata": {},
   "outputs": [
    {
     "data": {
      "text/plain": [
       "0"
      ]
     },
     "execution_count": 53,
     "metadata": {},
     "output_type": "execute_result"
    }
   ],
   "source": [
    "greeting.index('he')"
   ]
  },
  {
   "cell_type": "code",
   "execution_count": 56,
   "id": "fbf94308",
   "metadata": {},
   "outputs": [
    {
     "ename": "ValueError",
     "evalue": "substring not found",
     "output_type": "error",
     "traceback": [
      "\u001b[1;31m---------------------------------------------------------------------------\u001b[0m",
      "\u001b[1;31mValueError\u001b[0m                                Traceback (most recent call last)",
      "Input \u001b[1;32mIn [56]\u001b[0m, in \u001b[0;36m<cell line: 1>\u001b[1;34m()\u001b[0m\n\u001b[1;32m----> 1\u001b[0m \u001b[43mgreeting\u001b[49m\u001b[38;5;241;43m.\u001b[39;49m\u001b[43mindex\u001b[49m\u001b[43m(\u001b[49m\u001b[38;5;124;43m'\u001b[39;49m\u001b[38;5;124;43mz\u001b[39;49m\u001b[38;5;124;43m'\u001b[39;49m\u001b[43m)\u001b[49m\n",
      "\u001b[1;31mValueError\u001b[0m: substring not found"
     ]
    }
   ],
   "source": [
    "greeting.index('z') #index는 없을 경우 에러"
   ]
  },
  {
   "cell_type": "code",
   "execution_count": 57,
   "id": "96e4ffd8",
   "metadata": {},
   "outputs": [
    {
     "data": {
      "text/plain": [
       "-1"
      ]
     },
     "execution_count": 57,
     "metadata": {},
     "output_type": "execute_result"
    }
   ],
   "source": [
    "greeting.find('z') # find는 없을 경우 마지막꺼 반환"
   ]
  },
  {
   "cell_type": "code",
   "execution_count": 58,
   "id": "622b8d35",
   "metadata": {},
   "outputs": [
    {
     "data": {
      "text/plain": [
       "'h!e!l!l!o! !m!y! !f!r!i!e!n!d!s'"
      ]
     },
     "execution_count": 58,
     "metadata": {},
     "output_type": "execute_result"
    }
   ],
   "source": [
    "'!'.join(greeting)"
   ]
  },
  {
   "cell_type": "code",
   "execution_count": 59,
   "id": "6cc894a5",
   "metadata": {},
   "outputs": [
    {
     "data": {
      "text/plain": [
       "'HELLO MY FRIENDS'"
      ]
     },
     "execution_count": 59,
     "metadata": {},
     "output_type": "execute_result"
    }
   ],
   "source": [
    "greeting.upper()"
   ]
  },
  {
   "cell_type": "code",
   "execution_count": 60,
   "id": "5591415e",
   "metadata": {},
   "outputs": [
    {
     "data": {
      "text/plain": [
       "'hello my friends'"
      ]
     },
     "execution_count": 60,
     "metadata": {},
     "output_type": "execute_result"
    }
   ],
   "source": [
    "greeting.lower()"
   ]
  },
  {
   "cell_type": "code",
   "execution_count": 61,
   "id": "001b7efe",
   "metadata": {},
   "outputs": [
    {
     "data": {
      "text/plain": [
       "'hello user friends'"
      ]
     },
     "execution_count": 61,
     "metadata": {},
     "output_type": "execute_result"
    }
   ],
   "source": [
    "greeting.replace(\"my\",\"user\")"
   ]
  },
  {
   "cell_type": "code",
   "execution_count": 63,
   "id": "4eae9555",
   "metadata": {},
   "outputs": [
    {
     "data": {
      "text/plain": [
       "['hello ', ' friends']"
      ]
     },
     "execution_count": 63,
     "metadata": {},
     "output_type": "execute_result"
    }
   ],
   "source": [
    "greeting.split('my') #my를 기준으로 자름"
   ]
  },
  {
   "cell_type": "code",
   "execution_count": 67,
   "id": "196eff21",
   "metadata": {},
   "outputs": [
    {
     "data": {
      "text/plain": [
       "['hello', 'my', 'friends']"
      ]
     },
     "execution_count": 67,
     "metadata": {},
     "output_type": "execute_result"
    }
   ],
   "source": [
    "greeting.split(' ')"
   ]
  },
  {
   "cell_type": "markdown",
   "id": "1ca465eb",
   "metadata": {},
   "source": [
    "형변환 "
   ]
  },
  {
   "cell_type": "code",
   "execution_count": 68,
   "id": "953cb023",
   "metadata": {},
   "outputs": [],
   "source": [
    "number1 = 1"
   ]
  },
  {
   "cell_type": "code",
   "execution_count": 70,
   "id": "ebf5ba02",
   "metadata": {},
   "outputs": [
    {
     "data": {
      "text/plain": [
       "int"
      ]
     },
     "execution_count": 70,
     "metadata": {},
     "output_type": "execute_result"
    }
   ],
   "source": [
    "type(number1)"
   ]
  },
  {
   "cell_type": "code",
   "execution_count": 71,
   "id": "620448e6",
   "metadata": {},
   "outputs": [],
   "source": [
    "number2 = \"1\""
   ]
  },
  {
   "cell_type": "code",
   "execution_count": 73,
   "id": "c5fc4541",
   "metadata": {},
   "outputs": [
    {
     "data": {
      "text/plain": [
       "str"
      ]
     },
     "execution_count": 73,
     "metadata": {},
     "output_type": "execute_result"
    }
   ],
   "source": [
    "type(number2)"
   ]
  },
  {
   "cell_type": "code",
   "execution_count": 74,
   "id": "80effffb",
   "metadata": {},
   "outputs": [
    {
     "data": {
      "text/plain": [
       "1"
      ]
     },
     "execution_count": 74,
     "metadata": {},
     "output_type": "execute_result"
    }
   ],
   "source": [
    "number1"
   ]
  },
  {
   "cell_type": "code",
   "execution_count": 75,
   "id": "d866def4",
   "metadata": {},
   "outputs": [
    {
     "data": {
      "text/plain": [
       "'1'"
      ]
     },
     "execution_count": 75,
     "metadata": {},
     "output_type": "execute_result"
    }
   ],
   "source": [
    "number2"
   ]
  },
  {
   "cell_type": "code",
   "execution_count": 77,
   "id": "10da51a3",
   "metadata": {},
   "outputs": [
    {
     "data": {
      "text/plain": [
       "1"
      ]
     },
     "execution_count": 77,
     "metadata": {},
     "output_type": "execute_result"
    }
   ],
   "source": [
    "int(number2)"
   ]
  },
  {
   "cell_type": "code",
   "execution_count": 79,
   "id": "4889b374",
   "metadata": {},
   "outputs": [
    {
     "data": {
      "text/plain": [
       "int"
      ]
     },
     "execution_count": 79,
     "metadata": {},
     "output_type": "execute_result"
    }
   ],
   "source": [
    "type(int(number2))"
   ]
  },
  {
   "cell_type": "code",
   "execution_count": 80,
   "id": "6348d446",
   "metadata": {},
   "outputs": [
    {
     "data": {
      "text/plain": [
       "'1'"
      ]
     },
     "execution_count": 80,
     "metadata": {},
     "output_type": "execute_result"
    }
   ],
   "source": [
    "number2"
   ]
  },
  {
   "cell_type": "code",
   "execution_count": 82,
   "id": "bbf4a305",
   "metadata": {},
   "outputs": [
    {
     "ename": "ValueError",
     "evalue": "invalid literal for int() with base 10: 'alsdkf'",
     "output_type": "error",
     "traceback": [
      "\u001b[1;31m---------------------------------------------------------------------------\u001b[0m",
      "\u001b[1;31mValueError\u001b[0m                                Traceback (most recent call last)",
      "Input \u001b[1;32mIn [82]\u001b[0m, in \u001b[0;36m<cell line: 1>\u001b[1;34m()\u001b[0m\n\u001b[1;32m----> 1\u001b[0m \u001b[38;5;28;43mint\u001b[39;49m\u001b[43m(\u001b[49m\u001b[38;5;124;43m'\u001b[39;49m\u001b[38;5;124;43malsdkf\u001b[39;49m\u001b[38;5;124;43m'\u001b[39;49m\u001b[43m)\u001b[49m\n",
      "\u001b[1;31mValueError\u001b[0m: invalid literal for int() with base 10: 'alsdkf'"
     ]
    }
   ],
   "source": [
    "int('alsdkf') #문자열은 int로 바꿀 수 없음 '숫자'여야함"
   ]
  },
  {
   "cell_type": "markdown",
   "id": "bb9942b6",
   "metadata": {},
   "source": [
    "### Quiz\n",
    "문자열과 관련된 함수를 사용하여 다음 문제를 해결하세요.  \n",
    "(1) 010-1234-4567인 전화번호를 (-)이 없도록 변경하세요.  \n",
    "(2) 900101-1234567인 주민등록번호에서 성별을 나타내는 숫자만 인덱싱 하세요.  \n",
    "(3) a = '10', b = '10'일 때 a + b의 결과를 예상해보세요.  "
   ]
  },
  {
   "cell_type": "code",
   "execution_count": 85,
   "id": "e0d1e1cc",
   "metadata": {},
   "outputs": [],
   "source": [
    "a = \"010-8243-2724\" "
   ]
  },
  {
   "cell_type": "code",
   "execution_count": 86,
   "id": "9821658a",
   "metadata": {},
   "outputs": [
    {
     "data": {
      "text/plain": [
       "'010-8243-2724'"
      ]
     },
     "execution_count": 86,
     "metadata": {},
     "output_type": "execute_result"
    }
   ],
   "source": [
    "a"
   ]
  },
  {
   "cell_type": "code",
   "execution_count": 103,
   "id": "da8c9892",
   "metadata": {},
   "outputs": [
    {
     "data": {
      "text/plain": [
       "'01082432724'"
      ]
     },
     "execution_count": 103,
     "metadata": {},
     "output_type": "execute_result"
    }
   ],
   "source": [
    "a.replace(\"-\",\"\")"
   ]
  },
  {
   "cell_type": "code",
   "execution_count": null,
   "id": "6b619cbc",
   "metadata": {},
   "outputs": [],
   "source": []
  },
  {
   "cell_type": "code",
   "execution_count": 87,
   "id": "52d0570e",
   "metadata": {},
   "outputs": [
    {
     "data": {
      "text/plain": [
       "['010', '8243', '2724']"
      ]
     },
     "execution_count": 87,
     "metadata": {},
     "output_type": "execute_result"
    }
   ],
   "source": [
    "a.split('-') # (1)틀림"
   ]
  },
  {
   "cell_type": "code",
   "execution_count": 93,
   "id": "9b9e9eb2",
   "metadata": {},
   "outputs": [],
   "source": [
    "b = \"900101-1234567\" "
   ]
  },
  {
   "cell_type": "code",
   "execution_count": 96,
   "id": "49328f7b",
   "metadata": {},
   "outputs": [
    {
     "data": {
      "text/plain": [
       "13"
      ]
     },
     "execution_count": 96,
     "metadata": {},
     "output_type": "execute_result"
    }
   ],
   "source": [
    "b.index('7') #얘는 몇번째인지 찾아주는거!!"
   ]
  },
  {
   "cell_type": "code",
   "execution_count": 104,
   "id": "491e6dc3",
   "metadata": {},
   "outputs": [
    {
     "data": {
      "text/plain": [
       "'1'"
      ]
     },
     "execution_count": 104,
     "metadata": {},
     "output_type": "execute_result"
    }
   ],
   "source": [
    "b[7] #(2) 정답"
   ]
  },
  {
   "cell_type": "code",
   "execution_count": 98,
   "id": "43a6f629",
   "metadata": {},
   "outputs": [],
   "source": [
    "ab = '10'\n",
    "cd = '10'"
   ]
  },
  {
   "cell_type": "code",
   "execution_count": 99,
   "id": "6ad54994",
   "metadata": {},
   "outputs": [
    {
     "data": {
      "text/plain": [
       "'10'"
      ]
     },
     "execution_count": 99,
     "metadata": {},
     "output_type": "execute_result"
    }
   ],
   "source": [
    "ab"
   ]
  },
  {
   "cell_type": "code",
   "execution_count": 100,
   "id": "5432d8c5",
   "metadata": {},
   "outputs": [
    {
     "data": {
      "text/plain": [
       "'10'"
      ]
     },
     "execution_count": 100,
     "metadata": {},
     "output_type": "execute_result"
    }
   ],
   "source": [
    "cd"
   ]
  },
  {
   "cell_type": "code",
   "execution_count": 101,
   "id": "fac50bf3",
   "metadata": {},
   "outputs": [
    {
     "data": {
      "text/plain": [
       "10"
      ]
     },
     "execution_count": 101,
     "metadata": {},
     "output_type": "execute_result"
    }
   ],
   "source": [
    "int(ab)"
   ]
  },
  {
   "cell_type": "code",
   "execution_count": 102,
   "id": "cdc78cba",
   "metadata": {},
   "outputs": [
    {
     "data": {
      "text/plain": [
       "20"
      ]
     },
     "execution_count": 102,
     "metadata": {},
     "output_type": "execute_result"
    }
   ],
   "source": [
    "int(ab) + int(cd)"
   ]
  },
  {
   "cell_type": "markdown",
   "id": "a8ab60a5",
   "metadata": {},
   "source": [
    "### 3. 리스트(list)\n",
    "- 리스트는 여러 개의 요소들을 묶어서 사용할 수 있는 자료형\n",
    "- 리스트는 비어있을 수도 있고, 숫자형이나 문자형이 섞여 있을 수도 있음\n",
    "- 리스트는 []를 사용하며 쉼표로 요소를 분리"
   ]
  },
  {
   "cell_type": "code",
   "execution_count": 105,
   "id": "327c20b4",
   "metadata": {},
   "outputs": [],
   "source": [
    "numbers = []"
   ]
  },
  {
   "cell_type": "code",
   "execution_count": 106,
   "id": "9f363e9b",
   "metadata": {},
   "outputs": [
    {
     "data": {
      "text/plain": [
       "list"
      ]
     },
     "execution_count": 106,
     "metadata": {},
     "output_type": "execute_result"
    }
   ],
   "source": [
    "type(numbers)"
   ]
  },
  {
   "cell_type": "code",
   "execution_count": 107,
   "id": "b6c0f052",
   "metadata": {},
   "outputs": [],
   "source": [
    "numbers = [1,2,3,4,5]"
   ]
  },
  {
   "cell_type": "code",
   "execution_count": 108,
   "id": "3017dbe0",
   "metadata": {},
   "outputs": [
    {
     "data": {
      "text/plain": [
       "[1, 2, 3, 4, 5]"
      ]
     },
     "execution_count": 108,
     "metadata": {},
     "output_type": "execute_result"
    }
   ],
   "source": [
    "numbers"
   ]
  },
  {
   "cell_type": "code",
   "execution_count": 109,
   "id": "f307e870",
   "metadata": {},
   "outputs": [
    {
     "data": {
      "text/plain": [
       "5"
      ]
     },
     "execution_count": 109,
     "metadata": {},
     "output_type": "execute_result"
    }
   ],
   "source": [
    "len(numbers)"
   ]
  },
  {
   "cell_type": "markdown",
   "id": "6ff91e74",
   "metadata": {},
   "source": [
    "#### 리스트 인덱싱\n"
   ]
  },
  {
   "cell_type": "code",
   "execution_count": 111,
   "id": "82672a80",
   "metadata": {},
   "outputs": [
    {
     "data": {
      "text/plain": [
       "[1, 2, 3, 4, 5]"
      ]
     },
     "execution_count": 111,
     "metadata": {},
     "output_type": "execute_result"
    }
   ],
   "source": [
    "numbers"
   ]
  },
  {
   "cell_type": "code",
   "execution_count": 112,
   "id": "83bf73b0",
   "metadata": {},
   "outputs": [
    {
     "data": {
      "text/plain": [
       "1"
      ]
     },
     "execution_count": 112,
     "metadata": {},
     "output_type": "execute_result"
    }
   ],
   "source": [
    "numbers[0]"
   ]
  },
  {
   "cell_type": "code",
   "execution_count": 113,
   "id": "bf468bcd",
   "metadata": {},
   "outputs": [
    {
     "data": {
      "text/plain": [
       "5"
      ]
     },
     "execution_count": 113,
     "metadata": {},
     "output_type": "execute_result"
    }
   ],
   "source": [
    "numbers[-1]"
   ]
  },
  {
   "cell_type": "code",
   "execution_count": 114,
   "id": "88fa3fc0",
   "metadata": {},
   "outputs": [
    {
     "data": {
      "text/plain": [
       "[3, 4, 5]"
      ]
     },
     "execution_count": 114,
     "metadata": {},
     "output_type": "execute_result"
    }
   ],
   "source": [
    "numbers[2:]"
   ]
  },
  {
   "cell_type": "code",
   "execution_count": 115,
   "id": "51c64ed6",
   "metadata": {},
   "outputs": [
    {
     "data": {
      "text/plain": [
       "4"
      ]
     },
     "execution_count": 115,
     "metadata": {},
     "output_type": "execute_result"
    }
   ],
   "source": [
    "numbers[0] + numbers[2]"
   ]
  },
  {
   "cell_type": "code",
   "execution_count": 116,
   "id": "e49f2ad8",
   "metadata": {},
   "outputs": [],
   "source": [
    "b = ['sd','sdfsdg','sdkflsd']"
   ]
  },
  {
   "cell_type": "code",
   "execution_count": 117,
   "id": "dfcff592",
   "metadata": {},
   "outputs": [
    {
     "data": {
      "text/plain": [
       "['sd', 'sdfsdg', 'sdkflsd']"
      ]
     },
     "execution_count": 117,
     "metadata": {},
     "output_type": "execute_result"
    }
   ],
   "source": [
    "b"
   ]
  },
  {
   "cell_type": "code",
   "execution_count": 118,
   "id": "e12d571c",
   "metadata": {},
   "outputs": [
    {
     "data": {
      "text/plain": [
       "'sd'"
      ]
     },
     "execution_count": 118,
     "metadata": {},
     "output_type": "execute_result"
    }
   ],
   "source": [
    "b[0]"
   ]
  },
  {
   "cell_type": "code",
   "execution_count": 119,
   "id": "4d62ca8f",
   "metadata": {},
   "outputs": [
    {
     "data": {
      "text/plain": [
       "['sd', 'sdfsdg', 'sdkflsd']"
      ]
     },
     "execution_count": 119,
     "metadata": {},
     "output_type": "execute_result"
    }
   ],
   "source": [
    "b[:3]"
   ]
  },
  {
   "cell_type": "code",
   "execution_count": 121,
   "id": "dd7941e4",
   "metadata": {},
   "outputs": [
    {
     "data": {
      "text/plain": [
       "'sdsdkflsd'"
      ]
     },
     "execution_count": 121,
     "metadata": {},
     "output_type": "execute_result"
    }
   ],
   "source": [
    "b[0] + b[2]"
   ]
  },
  {
   "cell_type": "code",
   "execution_count": 122,
   "id": "cdc5d9d0",
   "metadata": {},
   "outputs": [
    {
     "data": {
      "text/plain": [
       "[1, 2, 3, 4, 5, 'sd', 'sdfsdg', 'sdkflsd']"
      ]
     },
     "execution_count": 122,
     "metadata": {},
     "output_type": "execute_result"
    }
   ],
   "source": [
    "numbers + b"
   ]
  },
  {
   "cell_type": "code",
   "execution_count": 123,
   "id": "2cb9ca9c",
   "metadata": {},
   "outputs": [],
   "source": [
    "del numbers[0]"
   ]
  },
  {
   "cell_type": "code",
   "execution_count": 124,
   "id": "08ef6a91",
   "metadata": {},
   "outputs": [
    {
     "data": {
      "text/plain": [
       "[2, 3, 4, 5]"
      ]
     },
     "execution_count": 124,
     "metadata": {},
     "output_type": "execute_result"
    }
   ],
   "source": [
    "numbers"
   ]
  },
  {
   "cell_type": "markdown",
   "id": "0ec6da68",
   "metadata": {},
   "source": [
    "#### 리스트 관련 함수들\n",
    "- 추가 (append)\n",
    "- 정렬 (sort)\n",
    "- 뒤집기 (reverse)\n",
    "- 위치(index)\n",
    "- 삽입(insert)\n",
    "- 삭제(remove)\n",
    "- 꺼내기(pop)\n",
    "- 갯수(count)\n",
    "- 확장(extend\n"
   ]
  },
  {
   "cell_type": "code",
   "execution_count": 125,
   "id": "1c332105",
   "metadata": {},
   "outputs": [],
   "source": [
    "a = [31,2,342]"
   ]
  },
  {
   "cell_type": "code",
   "execution_count": 126,
   "id": "a5277364",
   "metadata": {},
   "outputs": [
    {
     "data": {
      "text/plain": [
       "[31, 2, 342]"
      ]
     },
     "execution_count": 126,
     "metadata": {},
     "output_type": "execute_result"
    }
   ],
   "source": [
    "a"
   ]
  },
  {
   "cell_type": "code",
   "execution_count": 129,
   "id": "1ff5afdf",
   "metadata": {},
   "outputs": [],
   "source": [
    "a.append(100)"
   ]
  },
  {
   "cell_type": "code",
   "execution_count": 130,
   "id": "28bfbbc3",
   "metadata": {},
   "outputs": [
    {
     "data": {
      "text/plain": [
       "[31, 2, 342, 100, 100]"
      ]
     },
     "execution_count": 130,
     "metadata": {},
     "output_type": "execute_result"
    }
   ],
   "source": [
    "a"
   ]
  },
  {
   "cell_type": "code",
   "execution_count": 133,
   "id": "6d2f39df",
   "metadata": {},
   "outputs": [],
   "source": [
    "a.sort() #작은 숫자부터 큰 숫자까지 정렬"
   ]
  },
  {
   "cell_type": "code",
   "execution_count": 134,
   "id": "acb6665d",
   "metadata": {},
   "outputs": [
    {
     "data": {
      "text/plain": [
       "[2, 31, 100, 100, 342]"
      ]
     },
     "execution_count": 134,
     "metadata": {},
     "output_type": "execute_result"
    }
   ],
   "source": [
    "a"
   ]
  },
  {
   "cell_type": "code",
   "execution_count": 135,
   "id": "ceea39c9",
   "metadata": {},
   "outputs": [],
   "source": [
    "a.reverse() #반대로 뒤집어짐"
   ]
  },
  {
   "cell_type": "code",
   "execution_count": 136,
   "id": "8a2dc849",
   "metadata": {},
   "outputs": [
    {
     "data": {
      "text/plain": [
       "[342, 100, 100, 31, 2]"
      ]
     },
     "execution_count": 136,
     "metadata": {},
     "output_type": "execute_result"
    }
   ],
   "source": [
    "a"
   ]
  },
  {
   "cell_type": "code",
   "execution_count": 137,
   "id": "4ce32309",
   "metadata": {},
   "outputs": [
    {
     "data": {
      "text/plain": [
       "3"
      ]
     },
     "execution_count": 137,
     "metadata": {},
     "output_type": "execute_result"
    }
   ],
   "source": [
    "a.index(31) #31 몇번째에 있는지"
   ]
  },
  {
   "cell_type": "code",
   "execution_count": 141,
   "id": "926d9046",
   "metadata": {},
   "outputs": [
    {
     "data": {
      "text/plain": [
       "[342, 100, 100, 31, 2]"
      ]
     },
     "execution_count": 141,
     "metadata": {},
     "output_type": "execute_result"
    }
   ],
   "source": [
    "a"
   ]
  },
  {
   "cell_type": "code",
   "execution_count": 142,
   "id": "1487cc77",
   "metadata": {},
   "outputs": [],
   "source": [
    "a.insert(0,999) #(위치,넣을 숫자)"
   ]
  },
  {
   "cell_type": "code",
   "execution_count": 143,
   "id": "e1b42b62",
   "metadata": {},
   "outputs": [
    {
     "data": {
      "text/plain": [
       "[999, 342, 100, 100, 31, 2]"
      ]
     },
     "execution_count": 143,
     "metadata": {},
     "output_type": "execute_result"
    }
   ],
   "source": [
    "a"
   ]
  },
  {
   "cell_type": "code",
   "execution_count": 144,
   "id": "afea917c",
   "metadata": {},
   "outputs": [],
   "source": [
    "a.insert(1,123)"
   ]
  },
  {
   "cell_type": "code",
   "execution_count": 145,
   "id": "2327979b",
   "metadata": {},
   "outputs": [
    {
     "data": {
      "text/plain": [
       "[999, 123, 342, 100, 100, 31, 2]"
      ]
     },
     "execution_count": 145,
     "metadata": {},
     "output_type": "execute_result"
    }
   ],
   "source": [
    "a"
   ]
  },
  {
   "cell_type": "code",
   "execution_count": 146,
   "id": "4f33f603",
   "metadata": {},
   "outputs": [],
   "source": [
    "a.remove(123)"
   ]
  },
  {
   "cell_type": "code",
   "execution_count": 147,
   "id": "19fb8314",
   "metadata": {},
   "outputs": [
    {
     "data": {
      "text/plain": [
       "[999, 342, 100, 100, 31, 2]"
      ]
     },
     "execution_count": 147,
     "metadata": {},
     "output_type": "execute_result"
    }
   ],
   "source": [
    "a"
   ]
  },
  {
   "cell_type": "code",
   "execution_count": 148,
   "id": "41bc89bd",
   "metadata": {},
   "outputs": [
    {
     "data": {
      "text/plain": [
       "2"
      ]
     },
     "execution_count": 148,
     "metadata": {},
     "output_type": "execute_result"
    }
   ],
   "source": [
    "a.pop() #맨 뒤에 있는 값 튀어나옴"
   ]
  },
  {
   "cell_type": "code",
   "execution_count": 149,
   "id": "fac0b473",
   "metadata": {},
   "outputs": [
    {
     "data": {
      "text/plain": [
       "[999, 342, 100, 100, 31]"
      ]
     },
     "execution_count": 149,
     "metadata": {},
     "output_type": "execute_result"
    }
   ],
   "source": [
    "a #실제 리스트에서 사라짐"
   ]
  },
  {
   "cell_type": "code",
   "execution_count": 150,
   "id": "29fa00ff",
   "metadata": {},
   "outputs": [
    {
     "data": {
      "text/plain": [
       "2"
      ]
     },
     "execution_count": 150,
     "metadata": {},
     "output_type": "execute_result"
    }
   ],
   "source": [
    "a.count(100)"
   ]
  },
  {
   "cell_type": "code",
   "execution_count": 151,
   "id": "3fa97fc0",
   "metadata": {},
   "outputs": [],
   "source": [
    "a.extend([324,2,14,3]) #뒤에 새로운 리스트 추가"
   ]
  },
  {
   "cell_type": "code",
   "execution_count": 152,
   "id": "973f1548",
   "metadata": {},
   "outputs": [
    {
     "data": {
      "text/plain": [
       "[999, 342, 100, 100, 31, 324, 2, 14, 3]"
      ]
     },
     "execution_count": 152,
     "metadata": {},
     "output_type": "execute_result"
    }
   ],
   "source": [
    "a"
   ]
  },
  {
   "cell_type": "code",
   "execution_count": 155,
   "id": "8e9f9d0e",
   "metadata": {},
   "outputs": [
    {
     "data": {
      "text/plain": [
       "[999, 342, 100, 100, 31, 324, 2, 14, 3, 12, 3, 14, 15]"
      ]
     },
     "execution_count": 155,
     "metadata": {},
     "output_type": "execute_result"
    }
   ],
   "source": [
    "a + [12,3,14,15]"
   ]
  },
  {
   "cell_type": "code",
   "execution_count": 156,
   "id": "7f33a59d",
   "metadata": {},
   "outputs": [
    {
     "data": {
      "text/plain": [
       "[999, 342, 100, 100, 31, 324, 2, 14, 3]"
      ]
     },
     "execution_count": 156,
     "metadata": {},
     "output_type": "execute_result"
    }
   ],
   "source": [
    "a"
   ]
  },
  {
   "cell_type": "markdown",
   "id": "e491db17",
   "metadata": {},
   "source": [
    "#### Quiz\n",
    "(1) list1 = [13,53,24,35,38]을 큰 수부터 작은 수 순서로 정렬하시오.  \n",
    "(2) \"DP, 오징어게임, 슬기로운 의사생활\"을 nexfilx_list라는 변수에 리스트로 만들어보세요.  \n",
    "(3) nexflix_list 맨 뒤에 '호텔 델루나'를 추가해보세요  \n",
    "(4) 'DP'를 삭제하고 그 위치에 '검은태양'을 추가해보세요  "
   ]
  },
  {
   "cell_type": "code",
   "execution_count": null,
   "id": "b48c40e4",
   "metadata": {},
   "outputs": [],
   "source": []
  },
  {
   "cell_type": "markdown",
   "id": "f0f19f2b",
   "metadata": {},
   "source": [
    "(1) list1 = [13,53,24,35,38]을 큰 수부터 작은 수 순서로 정렬하시오.  "
   ]
  },
  {
   "cell_type": "code",
   "execution_count": 157,
   "id": "5efff853",
   "metadata": {},
   "outputs": [],
   "source": [
    "list1 = [13,53,24,35,38] #(1)"
   ]
  },
  {
   "cell_type": "code",
   "execution_count": 158,
   "id": "a0c9dc73",
   "metadata": {},
   "outputs": [],
   "source": [
    "list1.sort()"
   ]
  },
  {
   "cell_type": "code",
   "execution_count": 159,
   "id": "14453e66",
   "metadata": {},
   "outputs": [
    {
     "data": {
      "text/plain": [
       "[13, 24, 35, 38, 53]"
      ]
     },
     "execution_count": 159,
     "metadata": {},
     "output_type": "execute_result"
    }
   ],
   "source": [
    "list1"
   ]
  },
  {
   "cell_type": "code",
   "execution_count": 160,
   "id": "c266716c",
   "metadata": {},
   "outputs": [],
   "source": [
    "list1.reverse()"
   ]
  },
  {
   "cell_type": "code",
   "execution_count": 161,
   "id": "c3b79b68",
   "metadata": {},
   "outputs": [
    {
     "data": {
      "text/plain": [
       "[53, 38, 35, 24, 13]"
      ]
     },
     "execution_count": 161,
     "metadata": {},
     "output_type": "execute_result"
    }
   ],
   "source": [
    "list1"
   ]
  },
  {
   "cell_type": "markdown",
   "id": "636d2acb",
   "metadata": {},
   "source": [
    "(2) \"DP, 오징어게임, 슬기로운 의사생활\"을 nexfilx_list라는 변수에 리스트로 만들어보세요.  "
   ]
  },
  {
   "cell_type": "code",
   "execution_count": 162,
   "id": "88ccc90b",
   "metadata": {},
   "outputs": [],
   "source": [
    "nexflix_list = ['DP','오징어게임','슬기로운 의사생활']"
   ]
  },
  {
   "cell_type": "markdown",
   "id": "58eab0bc",
   "metadata": {},
   "source": [
    "(3) nexflix_list 맨 뒤에 '호텔 델루나'를 추가해보세요  "
   ]
  },
  {
   "cell_type": "code",
   "execution_count": 171,
   "id": "a7d06e91",
   "metadata": {},
   "outputs": [],
   "source": [
    "nexflix_list.append('호텔 델루나') "
   ]
  },
  {
   "cell_type": "code",
   "execution_count": 172,
   "id": "5196975c",
   "metadata": {},
   "outputs": [
    {
     "data": {
      "text/plain": [
       "['DP', '오징어게임', '슬기로운 의사생활', '검은태양', '호텔 델루나', '호텔 델루나']"
      ]
     },
     "execution_count": 172,
     "metadata": {},
     "output_type": "execute_result"
    }
   ],
   "source": [
    "nexflix_list"
   ]
  },
  {
   "cell_type": "code",
   "execution_count": 173,
   "id": "bebb5299",
   "metadata": {},
   "outputs": [],
   "source": [
    "nexflix_list.remove('검은태양')"
   ]
  },
  {
   "cell_type": "code",
   "execution_count": 174,
   "id": "93408525",
   "metadata": {},
   "outputs": [
    {
     "data": {
      "text/plain": [
       "['DP', '오징어게임', '슬기로운 의사생활', '호텔 델루나', '호텔 델루나']"
      ]
     },
     "execution_count": 174,
     "metadata": {},
     "output_type": "execute_result"
    }
   ],
   "source": [
    "nexflix_list"
   ]
  },
  {
   "cell_type": "code",
   "execution_count": 176,
   "id": "1bc7f322",
   "metadata": {},
   "outputs": [],
   "source": [
    "nexflix_list.remove('호텔 델루나')"
   ]
  },
  {
   "cell_type": "code",
   "execution_count": 177,
   "id": "cf1eb6ce",
   "metadata": {},
   "outputs": [
    {
     "data": {
      "text/plain": [
       "['DP', '오징어게임', '슬기로운 의사생활', '호텔 델루나']"
      ]
     },
     "execution_count": 177,
     "metadata": {},
     "output_type": "execute_result"
    }
   ],
   "source": [
    "nexflix_list"
   ]
  },
  {
   "cell_type": "markdown",
   "id": "283fd299",
   "metadata": {},
   "source": [
    "(4) 'DP'를 삭제하고 그 위치에 '검은태양'을 추가해보세요"
   ]
  },
  {
   "cell_type": "code",
   "execution_count": 178,
   "id": "5aef9466",
   "metadata": {},
   "outputs": [],
   "source": [
    "nexflix_list.remove('DP')"
   ]
  },
  {
   "cell_type": "code",
   "execution_count": 179,
   "id": "470aabf3",
   "metadata": {},
   "outputs": [],
   "source": [
    "nexflix_list.insert(0,'검은태양')"
   ]
  },
  {
   "cell_type": "code",
   "execution_count": 180,
   "id": "9f677f2c",
   "metadata": {},
   "outputs": [
    {
     "data": {
      "text/plain": [
       "['검은태양', '오징어게임', '슬기로운 의사생활', '호텔 델루나']"
      ]
     },
     "execution_count": 180,
     "metadata": {},
     "output_type": "execute_result"
    }
   ],
   "source": [
    "nexflix_list"
   ]
  },
  {
   "cell_type": "code",
   "execution_count": null,
   "id": "bedffd94",
   "metadata": {},
   "outputs": [],
   "source": []
  }
 ],
 "metadata": {
  "kernelspec": {
   "display_name": "Python 3 (ipykernel)",
   "language": "python",
   "name": "python3"
  },
  "language_info": {
   "codemirror_mode": {
    "name": "ipython",
    "version": 3
   },
   "file_extension": ".py",
   "mimetype": "text/x-python",
   "name": "python",
   "nbconvert_exporter": "python",
   "pygments_lexer": "ipython3",
   "version": "3.9.12"
  }
 },
 "nbformat": 4,
 "nbformat_minor": 5
}
