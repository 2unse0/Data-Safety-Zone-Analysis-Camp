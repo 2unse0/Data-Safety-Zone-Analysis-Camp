{
 "cells": [
  {
   "cell_type": "markdown",
   "id": "8838ed4d",
   "metadata": {},
   "source": [
    "# 제어문\n",
    "- 단어가 \"자료형\"이라면 문장은 \"제어문\"이라고 생각할 수 있음\n",
    "- 우리가 배운 자료형으론 어떤 로직을 구현할 수 없지만, 이제 제어문을 배우면 조건에 맞는 연산을 할 수 있도록 구현할 수 있다. \n",
    "- 제어문은 if, while, for 3개로 구성된다."
   ]
  },
  {
   "cell_type": "markdown",
   "id": "9c7738f2",
   "metadata": {},
   "source": [
    "### if\n",
    "- if는 만약이라는 뜻을 담고 있다.\n",
    "- \"if 뒤에 나오는 조건이 참일 경우, ~을 실행하라\"라는 뜻으로 이해하면 된다.\n",
    "- if의 조건문은 True 혹은 False인 bool 자료형으로 조건을 검사한다.\n",
    "- if 조건문 뒤에는 :를 사용해야 한다.\n",
    "- if문 아래 수행할 문장은 들여쓰기 (indent)를 해야한다. (tab, space*4)"
   ]
  },
  {
   "cell_type": "code",
   "execution_count": 1,
   "id": "d95da8df",
   "metadata": {},
   "outputs": [
    {
     "name": "stdout",
     "output_type": "stream",
     "text": [
      "1은 0보다 크다\n"
     ]
    }
   ],
   "source": [
    "if(1>0):\n",
    "    print(\"1은 0보다 크다\")"
   ]
  },
  {
   "cell_type": "markdown",
   "id": "1f7e79fa",
   "metadata": {},
   "source": [
    "- bool 자료형에서 봤듯이, True인 참을 나타낼 때 해당 if문은 수행 된다.\n",
    "- 숫자는 0 아니면 True\n",
    "- 문자열은 \"\" 아니면 True\n",
    "- 비교연산자의 값이 맞으면 True\n"
   ]
  },
  {
   "cell_type": "code",
   "execution_count": 2,
   "id": "1237b9f1",
   "metadata": {},
   "outputs": [
    {
     "name": "stdout",
     "output_type": "stream",
     "text": [
      "1은 0보다 크다\n"
     ]
    }
   ],
   "source": [
    "if(1):\n",
    "    print(\"1은 0보다 크다\") #0이면 출력 안됨"
   ]
  },
  {
   "cell_type": "code",
   "execution_count": 4,
   "id": "f45a9ce9",
   "metadata": {},
   "outputs": [],
   "source": [
    "if(0): # 출력 안됨\n",
    "    print(\"1은 0보다 크다\")"
   ]
  },
  {
   "cell_type": "code",
   "execution_count": 5,
   "id": "58aab504",
   "metadata": {},
   "outputs": [],
   "source": [
    "if(''): # 공백 출력 안됨\n",
    "    print(\"1은 0보다 크다\")"
   ]
  },
  {
   "cell_type": "markdown",
   "id": "cd219839",
   "metadata": {},
   "source": [
    "### elif, else\n",
    "- if 조건문 뒤에 추가적인 조건을 검사하는 방법\n",
    "- 만약 if문에 조건이 충족하지 않으면, 이후에 있는 elif를 검사하게 된다.\n",
    "- 앞에 주어진 모든 조건을 만족하지 못할 때는 else라는 부분이 수행"
   ]
  },
  {
   "cell_type": "code",
   "execution_count": 8,
   "id": "5213156f",
   "metadata": {},
   "outputs": [
    {
     "name": "stdout",
     "output_type": "stream",
     "text": [
      "b\n"
     ]
    }
   ],
   "source": [
    "if(1<0):\n",
    "    print(\"a\")\n",
    "elif(1<0):\n",
    "    print(\"c\")\n",
    "else:\n",
    "    print(\"b\")"
   ]
  },
  {
   "cell_type": "code",
   "execution_count": 9,
   "id": "432a9c08",
   "metadata": {},
   "outputs": [
    {
     "name": "stdout",
     "output_type": "stream",
     "text": [
      "a는 5보다 작습니다.\n"
     ]
    }
   ],
   "source": [
    "a = 1\n",
    "if(a<5):\n",
    "    print('a는 5보다 작습니다.')\n",
    "elif(a<10):\n",
    "    print('a는 10보다 작습니다.')\n",
    "else:\n",
    "    print('a는 10보다 큽니다.')"
   ]
  },
  {
   "cell_type": "markdown",
   "id": "2ff8897e",
   "metadata": {},
   "source": [
    "### 중첩 if문\n",
    "- if문은 중첩으로 사용이 가능\n",
    "- 하지만 코드의 가독성을 위해, 중첩 if문을 사용하는 것은 지양"
   ]
  },
  {
   "cell_type": "code",
   "execution_count": 12,
   "id": "b489c02a",
   "metadata": {},
   "outputs": [
    {
     "name": "stdout",
     "output_type": "stream",
     "text": [
      "a는 20보다 큽니다.\n"
     ]
    }
   ],
   "source": [
    "a = 50\n",
    "if(a > 10):\n",
    "    if(a > 20):\n",
    "        print(\"a는 20보다 큽니다.\")\n",
    "    else:\n",
    "        print(\"a는 10초과 20이하입니다.\")\n",
    "else:\n",
    "    print(\"a는 10보다 작거나 같습니다.\")"
   ]
  },
  {
   "cell_type": "markdown",
   "id": "2836ac5e",
   "metadata": {},
   "source": [
    "### 사용자 입력 받기\n",
    "- input()이라는 함수를 통해 사용자의 입력을 받을 수 있음\n",
    "- input()함수는 입력을 문자열로 받기 때문에, 숫자 입력을 받기 위해선 형번환이 필요\n",
    "- 괄호 안에 입력되는 문자열은 입력 받을 때 보여진다.\n",
    "\n"
   ]
  },
  {
   "cell_type": "code",
   "execution_count": 13,
   "id": "aaf61845",
   "metadata": {},
   "outputs": [
    {
     "name": "stdout",
     "output_type": "stream",
     "text": [
      "아이디를 입력해주세요:dmstj77\n"
     ]
    }
   ],
   "source": [
    "user_id = input('아이디를 입력해주세요:')"
   ]
  },
  {
   "cell_type": "code",
   "execution_count": 14,
   "id": "95917e68",
   "metadata": {},
   "outputs": [
    {
     "data": {
      "text/plain": [
       "'dmstj77'"
      ]
     },
     "execution_count": 14,
     "metadata": {},
     "output_type": "execute_result"
    }
   ],
   "source": [
    "user_id"
   ]
  },
  {
   "cell_type": "code",
   "execution_count": 18,
   "id": "da710f03",
   "metadata": {},
   "outputs": [
    {
     "name": "stdout",
     "output_type": "stream",
     "text": [
      "나이를 입력해주세요 :20\n"
     ]
    }
   ],
   "source": [
    "user_age = int(input('나이를 입력해주세요 :'))"
   ]
  },
  {
   "cell_type": "code",
   "execution_count": 19,
   "id": "837d41c3",
   "metadata": {},
   "outputs": [
    {
     "data": {
      "text/plain": [
       "20"
      ]
     },
     "execution_count": 19,
     "metadata": {},
     "output_type": "execute_result"
    }
   ],
   "source": [
    "user_age"
   ]
  },
  {
   "cell_type": "code",
   "execution_count": 20,
   "id": "e5b31d99",
   "metadata": {},
   "outputs": [
    {
     "data": {
      "text/plain": [
       "int"
      ]
     },
     "execution_count": 20,
     "metadata": {},
     "output_type": "execute_result"
    }
   ],
   "source": [
    "type(user_age)"
   ]
  },
  {
   "cell_type": "markdown",
   "id": "98d013d3",
   "metadata": {},
   "source": [
    "#### Quiz"
   ]
  },
  {
   "cell_type": "code",
   "execution_count": 21,
   "id": "1e5df3c7",
   "metadata": {},
   "outputs": [
    {
     "name": "stdout",
     "output_type": "stream",
     "text": [
      "나이를 입력해주세요:20\n",
      "성인\n"
     ]
    }
   ],
   "source": [
    "#(1) 사용자의 나이를 입력 받아, 20세 이상이면 \"성인\", 아니면 \"미성년자\"라고 출력되는 코드를 작성하세요.\n",
    "\n",
    "age = int(input('나이를 입력해주세요:'))\n",
    "\n",
    "if age >= 20:\n",
    "    print(\"성인\")\n",
    "else:\n",
    "    print(\"미성년자\")"
   ]
  },
  {
   "cell_type": "code",
   "execution_count": 25,
   "id": "437175d9",
   "metadata": {},
   "outputs": [
    {
     "name": "stdout",
     "output_type": "stream",
     "text": [
      "a:54654\n",
      "b:8461321\n",
      "c:0\n",
      "8461321\n"
     ]
    }
   ],
   "source": [
    "#(2) 사용자로부터 세 개의 숫자를 입력받아 가장 큰 수를 출력하세요.\n",
    "a = int(input(\"a:\"))\n",
    "b = int(input(\"b:\"))\n",
    "c = int(input(\"c:\"))\n",
    "\n",
    "if a>b>c:\n",
    "    print(a)\n",
    "elif b>a>c:\n",
    "    print(b)\n",
    "elif a>c>b:\n",
    "    print(a)\n",
    "elif b>c>a:\n",
    "    print(b)\n",
    "else:\n",
    "    print(c)"
   ]
  },
  {
   "cell_type": "code",
   "execution_count": 40,
   "id": "4f16da2f",
   "metadata": {
    "scrolled": true
   },
   "outputs": [
    {
     "name": "stdout",
     "output_type": "stream",
     "text": [
      "a:20\n",
      "b:10\n",
      "c:30\n",
      "30\n"
     ]
    }
   ],
   "source": [
    "a = int(input(\"a:\"))\n",
    "b = int(input(\"b:\"))\n",
    "c = int(input(\"c:\"))\n",
    "\n",
    "if a>b:\n",
    "    if a>c:\n",
    "        print(a)\n",
    "if b>c:\n",
    "    if b>a:\n",
    "        print(b)\n",
    "if c>a:\n",
    "    if c>b:\n",
    "        print(c)"
   ]
  },
  {
   "cell_type": "code",
   "execution_count": 43,
   "id": "3d4558a9",
   "metadata": {},
   "outputs": [
    {
     "name": "stdout",
     "output_type": "stream",
     "text": [
      "a:5\n",
      "b:6\n",
      "c:80\n"
     ]
    },
    {
     "data": {
      "text/plain": [
       "80"
      ]
     },
     "execution_count": 43,
     "metadata": {},
     "output_type": "execute_result"
    }
   ],
   "source": [
    "a = int(input(\"a:\"))\n",
    "b = int(input(\"b:\"))\n",
    "c = int(input(\"c:\"))\n",
    "\n",
    "inputs = [a,b,c]\n",
    "max(inputs) #최댓값 출력 min()은 최솟값 출력"
   ]
  },
  {
   "cell_type": "code",
   "execution_count": 44,
   "id": "1045a88e",
   "metadata": {},
   "outputs": [
    {
     "name": "stdout",
     "output_type": "stream",
     "text": [
      "주민등록번호를 입력해주세요: ex 00102941588170010294158817\n",
      "여자\n"
     ]
    }
   ],
   "source": [
    "# (3) 사용자의 주민등록번호를 입력받아, 뒷자리의 첫번째 숫자가 1 또는 3이면 \"남자\", 2 또는 4이면 \"여자\", 이외에는 \"오류\"라고 출력하세요.\n",
    "user_id = input(\"주민등록번호를 입력해주세요: ex 0010294158817\")\n",
    "if user_id[6] == \"1\" or user_id[6] == \"3\":\n",
    "    print(\"남자\")\n",
    "elif user_id[6] ==\"2\" or user_id[6] == \"4\":\n",
    "    print(\"여자\")\n",
    "else:\n",
    "    print(\"오류\")\n"
   ]
  },
  {
   "cell_type": "code",
   "execution_count": 30,
   "id": "2d9ff71c",
   "metadata": {},
   "outputs": [
    {
     "name": "stdout",
     "output_type": "stream",
     "text": [
      "주민등록번호를 입력해주세요:0010294158817\n"
     ]
    }
   ],
   "source": [
    "user_id =input(\"주민등록번호를 입력해주세요:\")"
   ]
  },
  {
   "cell_type": "code",
   "execution_count": 36,
   "id": "0e8e6646",
   "metadata": {},
   "outputs": [],
   "source": [
    "a = \"0010294158817\""
   ]
  },
  {
   "cell_type": "code",
   "execution_count": 37,
   "id": "34668b65",
   "metadata": {},
   "outputs": [
    {
     "data": {
      "text/plain": [
       "'5'"
      ]
     },
     "execution_count": 37,
     "metadata": {},
     "output_type": "execute_result"
    }
   ],
   "source": [
    "a[8]"
   ]
  },
  {
   "cell_type": "code",
   "execution_count": 1,
   "id": "09250781",
   "metadata": {},
   "outputs": [
    {
     "name": "stdout",
     "output_type": "stream",
     "text": [
      "주민등록번호를 입력해주세요. ex 0010294158817 :001234213645\n",
      "여자\n"
     ]
    }
   ],
   "source": [
    "user_id = input(\"주민등록번호를 입력해주세요. ex 0010294158817 :\")\n",
    "check_number = user_id[6]\n",
    "\n",
    "if check_number == \"1\" or check_number == \"3\":\n",
    "    print(\"남자\")\n",
    "elif check_number ==\"2\" or check_number == \"4\":\n",
    "    print(\"여자\")\n",
    "else:\n",
    "    print(\"오류\")"
   ]
  },
  {
   "cell_type": "markdown",
   "id": "771a7177",
   "metadata": {},
   "source": [
    "### 2. while문\n",
    "- while은 특정 조건을 만족했을 때, 반복해서 수행하는 제어문\n",
    "- 조건이 만족한 횟수만큼 반복되고, 조건이 만족하지 않으면 중단\n",
    "- 무한루프에 빠질 수도 있고, 강제로 빠져나갈 수도 있음"
   ]
  },
  {
   "cell_type": "code",
   "execution_count": 2,
   "id": "f107564f",
   "metadata": {},
   "outputs": [
    {
     "name": "stdout",
     "output_type": "stream",
     "text": [
      "count는 5 입니다.\n",
      "count는 4 입니다.\n",
      "count는 3 입니다.\n",
      "count는 2 입니다.\n",
      "count는 1 입니다.\n"
     ]
    }
   ],
   "source": [
    "count = 5\n",
    "while count > 0:\n",
    "    print('count는',count,'입니다.')\n",
    "    count = count -1"
   ]
  },
  {
   "cell_type": "code",
   "execution_count": 9,
   "id": "85e6b30b",
   "metadata": {},
   "outputs": [
    {
     "name": "stdout",
     "output_type": "stream",
     "text": [
      "\n",
      "    #######################\n",
      "    계산기 프로그램입니다.\n",
      "    \n",
      "    수행하실 연산을 번호로 입력해주세요.\n",
      "    \n",
      "    1. (+)\n",
      "    2. (-)\n",
      "    3. (*)\n",
      "    4. (/)\n",
      "    5. (종료)\n",
      "    \n",
      "입력 : 1\n",
      "덧셈을 수행합니다.\n",
      "\n",
      "    #######################\n",
      "    계산기 프로그램입니다.\n",
      "    \n",
      "    수행하실 연산을 번호로 입력해주세요.\n",
      "    \n",
      "    1. (+)\n",
      "    2. (-)\n",
      "    3. (*)\n",
      "    4. (/)\n",
      "    5. (종료)\n",
      "    \n",
      "입력 : 3\n",
      "곱셈을 수행합니다.\n",
      "\n",
      "    #######################\n",
      "    계산기 프로그램입니다.\n",
      "    \n",
      "    수행하실 연산을 번호로 입력해주세요.\n",
      "    \n",
      "    1. (+)\n",
      "    2. (-)\n",
      "    3. (*)\n",
      "    4. (/)\n",
      "    5. (종료)\n",
      "    \n",
      "입력 : 5\n",
      "프로그램을 종료합니다.\n"
     ]
    }
   ],
   "source": [
    "action = 0 #초기 할당 해줘야 함\n",
    "while action != 5:\n",
    "    print(\"\"\"\n",
    "    #######################\n",
    "    계산기 프로그램입니다.\n",
    "    \n",
    "    수행하실 연산을 번호로 입력해주세요.\n",
    "    \n",
    "    1. (+)\n",
    "    2. (-)\n",
    "    3. (*)\n",
    "    4. (/)\n",
    "    5. (종료)\n",
    "    \"\"\")\n",
    "    \n",
    "    \n",
    "    action  = int(input(\"입력 : \"))\n",
    "    if action == 1:\n",
    "        print('덧셈을 수행합니다.')\n",
    "    if action == 2:\n",
    "        print('뺄셈을 수행합니다.')\n",
    "    if action == 3:\n",
    "        print('곱셈을 수행합니다.')\n",
    "    if action == 4:\n",
    "        print('나눗셈을 수행합니다.')\n",
    "    if action == 5:\n",
    "        print('프로그램을 종료합니다.')"
   ]
  },
  {
   "cell_type": "markdown",
   "id": "51071e0b",
   "metadata": {},
   "source": [
    "### 3. for문\n",
    "- 파이썬에서 가장 많이 사용되는 반복문\n",
    "- 리스트나 튜플, 문자열 등 연속되는 데이터의 첫번째 요소부터 마지막 요소까지 차례로 변수에 대입하는 반복문\n"
   ]
  },
  {
   "cell_type": "code",
   "execution_count": 10,
   "id": "3a39974a",
   "metadata": {},
   "outputs": [],
   "source": [
    "a = [1,2,3,4,5] #리스트"
   ]
  },
  {
   "cell_type": "code",
   "execution_count": 11,
   "id": "1340e1cb",
   "metadata": {},
   "outputs": [
    {
     "data": {
      "text/plain": [
       "[1, 2, 3, 4, 5]"
      ]
     },
     "execution_count": 11,
     "metadata": {},
     "output_type": "execute_result"
    }
   ],
   "source": [
    "a"
   ]
  },
  {
   "cell_type": "code",
   "execution_count": 13,
   "id": "db500fd8",
   "metadata": {},
   "outputs": [
    {
     "name": "stdout",
     "output_type": "stream",
     "text": [
      "1\n",
      "2\n",
      "3\n",
      "4\n",
      "5\n"
     ]
    }
   ],
   "source": [
    "for i in a:\n",
    "    print(i)"
   ]
  },
  {
   "cell_type": "code",
   "execution_count": 14,
   "id": "b5aed80b",
   "metadata": {},
   "outputs": [
    {
     "name": "stdout",
     "output_type": "stream",
     "text": [
      "a\n",
      "b\n",
      "c\n",
      "d\n",
      "e\n"
     ]
    }
   ],
   "source": [
    "for i in 'abcde': #문자열\n",
    "    print(i)"
   ]
  },
  {
   "cell_type": "markdown",
   "id": "c734d9c3",
   "metadata": {},
   "source": [
    "- 리스트를 순화하며 실행하기 때문에, 리스트의 요소를 하나씩 넣어 처리하기 유용\n",
    "- 5명의 성별이 다음과 같이 리스트에 들어있을 때, genders=[0,0,0,1,1,1] 이면 남자, 1이면 여자라고 출력"
   ]
  },
  {
   "cell_type": "code",
   "execution_count": 18,
   "id": "39e4c8f2",
   "metadata": {},
   "outputs": [
    {
     "name": "stdout",
     "output_type": "stream",
     "text": [
      "0 남자\n",
      "0 남자\n",
      "0 남자\n",
      "1 여자\n",
      "1 여자\n"
     ]
    }
   ],
   "source": [
    "# 5명의 성별이 다음과 같이 리스트에 들어있을 때, \n",
    "# genders=[0,0,0,1,1,1] 0이면 남자, 1이면 여자라고 출력\n",
    "\n",
    "genders = [0,0,0,1,1]\n",
    "\n",
    "for i in genders:\n",
    "    if i == 0:\n",
    "        print(i, '남자')\n",
    "    if i == 1:\n",
    "        print(i, '여자')"
   ]
  },
  {
   "cell_type": "code",
   "execution_count": 19,
   "id": "40eb7d8f",
   "metadata": {},
   "outputs": [
    {
     "name": "stdout",
     "output_type": "stream",
     "text": [
      "1 번째는 남자\n",
      "2 번째는 남자\n",
      "3 번째는 남자\n",
      "4 번째는 여자\n",
      "5 번째는 여자\n"
     ]
    }
   ],
   "source": [
    "index = 0\n",
    "genders = [0,0,0,1,1]\n",
    "\n",
    "for i in genders:\n",
    "    index = index + 1\n",
    "    if i == 0:\n",
    "        print(index, \"번째는 남자\")\n",
    "    if i == 1:\n",
    "        print(index, \"번째는 여자\")"
   ]
  },
  {
   "cell_type": "code",
   "execution_count": 21,
   "id": "38e97ba5",
   "metadata": {},
   "outputs": [
    {
     "name": "stdout",
     "output_type": "stream",
     "text": [
      "0\n",
      "0\n",
      "0\n",
      "1\n",
      "1\n"
     ]
    }
   ],
   "source": [
    "genders = [0,0,0,1,1]\n",
    "\n",
    "for i in range(len(genders)): #range(len(genders)) = 0,1,2,3,4\n",
    "    print(genders[i])"
   ]
  },
  {
   "cell_type": "code",
   "execution_count": 22,
   "id": "053c1ee6",
   "metadata": {},
   "outputs": [
    {
     "data": {
      "text/plain": [
       "range(0, 5)"
      ]
     },
     "execution_count": 22,
     "metadata": {},
     "output_type": "execute_result"
    }
   ],
   "source": [
    "range(5) #0~5 => 0이상 5미만"
   ]
  },
  {
   "cell_type": "code",
   "execution_count": 23,
   "id": "dc8782e2",
   "metadata": {},
   "outputs": [
    {
     "data": {
      "text/plain": [
       "[0, 1, 2, 3, 4]"
      ]
     },
     "execution_count": 23,
     "metadata": {},
     "output_type": "execute_result"
    }
   ],
   "source": [
    "list(range(5))"
   ]
  },
  {
   "cell_type": "code",
   "execution_count": 24,
   "id": "11c19eb1",
   "metadata": {},
   "outputs": [
    {
     "name": "stdout",
     "output_type": "stream",
     "text": [
      "0 번째는 남자\n",
      "1 번째는 남자\n",
      "2 번째는 남자\n",
      "3 번째는 여자\n",
      "4 번째는 여자\n"
     ]
    }
   ],
   "source": [
    "genders = [0,0,0,1,1]\n",
    "\n",
    "for i in range(len(genders)):\n",
    "    if genders[i] == 0:\n",
    "        print(i, \"번째는 남자\")\n",
    "    if genders[i] == 1:\n",
    "        print(i, \"번째는 여자\")"
   ]
  },
  {
   "cell_type": "markdown",
   "id": "ba65a563",
   "metadata": {},
   "source": [
    "##### Quiz\n",
    "(1) for문을 이용하여 received_list에서 allowed_list에 존재하지 않는 목록을 뽑아 spam_mail이라는 리스트를 만드는 코드 구현  \n",
    "- received_list = ['tom','jenny', 'kyle', 'young', 'tami']  \n",
    "- allowed_list = ['kyle', 'tami', 'jason']  \n",
    "\n",
    "\n",
    "(2) 구구단 3단 중 결과가 홀수인 결과만을 출력하는 코드 구현"
   ]
  },
  {
   "cell_type": "code",
   "execution_count": 30,
   "id": "514fd315",
   "metadata": {},
   "outputs": [
    {
     "name": "stdout",
     "output_type": "stream",
     "text": [
      "tom 는 스팸리스트 입니다\n",
      "jenny 는 스팸리스트 입니다\n",
      "young 는 스팸리스트 입니다\n"
     ]
    }
   ],
   "source": [
    "# (1) for문을 이용하여 received_list에서 allowed_list에 존재하지 않는 목록을 뽑아 spam_mail이라는 리스트를 만드는 코드 구현\n",
    "\n",
    "received_list = ['tom', 'jenny', 'kyle', 'young', 'tami']\n",
    "allowed_list = ['kyle', 'tami', 'jason']\n",
    "spam_list = []\n",
    "\n",
    "for i in received_list:\n",
    "    if i not in allowed_list:\n",
    "        print(i,\"는 스팸리스트 입니다\")"
   ]
  },
  {
   "cell_type": "code",
   "execution_count": 33,
   "id": "ef0df4a2",
   "metadata": {},
   "outputs": [
    {
     "name": "stdout",
     "output_type": "stream",
     "text": [
      "['tom', 'jenny', 'young']\n"
     ]
    }
   ],
   "source": [
    "#정답\n",
    "received_list = ['tom', 'jenny', 'kyle', 'young', 'tami']\n",
    "allowed_list = ['kyle', 'tami', 'jason']\n",
    "spam_mail = []\n",
    "\n",
    "for i in received_list:\n",
    "    if i not in allowed_list:\n",
    "        spam_mail.append(i)\n",
    "\n",
    "print(spam_mail)"
   ]
  },
  {
   "cell_type": "code",
   "execution_count": 45,
   "id": "4b099134",
   "metadata": {},
   "outputs": [
    {
     "name": "stdout",
     "output_type": "stream",
     "text": [
      "3 * 1 = 3\n",
      "3 * 3 = 9\n",
      "3 * 5 = 15\n",
      "3 * 7 = 21\n",
      "3 * 9 = 27\n"
     ]
    }
   ],
   "source": [
    "#(2) 구구단 3단 중 홀수 결과만 출력하는 코드\n",
    "for i in range(1,10):\n",
    "    result = 3 * i # 3 * i를 result 변수에 담음\n",
    "    if result % 2 == 1:\n",
    "        print(3, '*', i, \"=\", 3 * i)"
   ]
  },
  {
   "cell_type": "code",
   "execution_count": 47,
   "id": "11fa00dc",
   "metadata": {},
   "outputs": [
    {
     "name": "stdout",
     "output_type": "stream",
     "text": [
      "3 * 1 = 3\n",
      "3 * 3 = 9\n",
      "3 * 5 = 15\n",
      "3 * 7 = 21\n",
      "3 * 9 = 27\n"
     ]
    }
   ],
   "source": [
    "for i in range(1,10): #우선 3단 코드부터 만들기\n",
    "    if 3 * i % 2 == 1:\n",
    "        print(3, '*', i, '=', 3*i)"
   ]
  },
  {
   "cell_type": "code",
   "execution_count": null,
   "id": "9647f94b",
   "metadata": {},
   "outputs": [],
   "source": []
  }
 ],
 "metadata": {
  "kernelspec": {
   "display_name": "Python 3 (ipykernel)",
   "language": "python",
   "name": "python3"
  },
  "language_info": {
   "codemirror_mode": {
    "name": "ipython",
    "version": 3
   },
   "file_extension": ".py",
   "mimetype": "text/x-python",
   "name": "python",
   "nbconvert_exporter": "python",
   "pygments_lexer": "ipython3",
   "version": "3.9.12"
  }
 },
 "nbformat": 4,
 "nbformat_minor": 5
}
